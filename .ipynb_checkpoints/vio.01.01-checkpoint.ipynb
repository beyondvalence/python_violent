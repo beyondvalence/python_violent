{
 "cells": [
  {
   "cell_type": "code",
   "execution_count": 2,
   "metadata": {
    "collapsed": false
   },
   "outputs": [],
   "source": [
    "import socket\n",
    "def retBanner(ip, port):\n",
    "    try:\n",
    "        socket.setdefaulttimeout(2)\n",
    "        s = socket.socket()\n",
    "        s.connect((ip, port))\n",
    "        banner = s.recv(1024)\n",
    "        return banner\n",
    "    except:\n",
    "        return\n",
    "def main():\n",
    "    ip1 = '192.168.95.148'\n",
    "    ip2 = '192.168.95.149'\n",
    "    port = 21\n",
    "    banner1 = retBanner(ip1, port)\n",
    "    if banner1:\n",
    "        print('[+] ' + ip1 + ': ' + banner1)\n",
    "    banner2 = retBanner(ip2, port)\n",
    "    if banner2:\n",
    "        print('[+] ' + ip2 + ': ' + banner2)\n",
    "\n",
    "if __name__ == '__main__':\n",
    "    main()"
   ]
  },
  {
   "cell_type": "code",
   "execution_count": null,
   "metadata": {
    "collapsed": false
   },
   "outputs": [],
   "source": []
  }
 ],
 "metadata": {
  "kernelspec": {
   "display_name": "Python 3",
   "language": "python",
   "name": "python3"
  },
  "language_info": {
   "codemirror_mode": {
    "name": "ipython",
    "version": 3
   },
   "file_extension": ".py",
   "mimetype": "text/x-python",
   "name": "python",
   "nbconvert_exporter": "python",
   "pygments_lexer": "ipython3",
   "version": "3.4.3"
  }
 },
 "nbformat": 4,
 "nbformat_minor": 0
}
